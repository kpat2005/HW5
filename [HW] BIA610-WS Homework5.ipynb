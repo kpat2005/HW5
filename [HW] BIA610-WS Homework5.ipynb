{
 "cells": [
  {
   "cell_type": "markdown",
   "id": "0a8b972d-e845-4291-87a3-125523df1e78",
   "metadata": {},
   "source": [
    "# [HW] BIA610-WS Homework 5\n",
    "\n",
    "- Your name: \n",
    "- Your email:"
   ]
  },
  {
   "cell_type": "markdown",
   "id": "06225208-dedb-4c58-8b74-65d7adde793f",
   "metadata": {},
   "source": [
    "**Note:** before doing this homework, \n",
    "1. download the \"data_module7.zip\" on Canvas under module 7. \n",
    "2. drag the zip file into the same folder of your code (the .ipynb file).\n",
    "3. Decompress the zip file.\n",
    "\n",
    "*Hint*: You may copy and modify the in-class practice code here. You will find it extremely useful. \n",
    "\n",
    "- Submit this jupyter notebook file (.ipynb) and rename it as \"username_HW5.ipynb\""
   ]
  },
  {
   "cell_type": "code",
   "execution_count": 1,
   "id": "12907cad-3c3c-4818-b59d-57d9cde89b2e",
   "metadata": {},
   "outputs": [],
   "source": [
    "import numpy as np \n",
    "import pandas as pd \n",
    "import matplotlib.pyplot as plt \n",
    "import seaborn as sns \n",
    "\n",
    "%matplotlib inline"
   ]
  },
  {
   "cell_type": "markdown",
   "id": "8569312f-eec8-43c4-97f6-618bcb8ba0a9",
   "metadata": {},
   "source": [
    "## The Bank Dataset"
   ]
  },
  {
   "cell_type": "code",
   "execution_count": 2,
   "id": "c53b3d0e-a692-4585-91a0-2ded4932c08e",
   "metadata": {},
   "outputs": [
    {
     "data": {
      "text/html": [
       "<div>\n",
       "<style scoped>\n",
       "    .dataframe tbody tr th:only-of-type {\n",
       "        vertical-align: middle;\n",
       "    }\n",
       "\n",
       "    .dataframe tbody tr th {\n",
       "        vertical-align: top;\n",
       "    }\n",
       "\n",
       "    .dataframe thead th {\n",
       "        text-align: right;\n",
       "    }\n",
       "</style>\n",
       "<table border=\"1\" class=\"dataframe\">\n",
       "  <thead>\n",
       "    <tr style=\"text-align: right;\">\n",
       "      <th></th>\n",
       "      <th>age</th>\n",
       "      <th>job</th>\n",
       "      <th>marital</th>\n",
       "      <th>education</th>\n",
       "      <th>default</th>\n",
       "      <th>balance</th>\n",
       "      <th>housing</th>\n",
       "      <th>loan</th>\n",
       "      <th>contact</th>\n",
       "      <th>day</th>\n",
       "      <th>month</th>\n",
       "      <th>duration</th>\n",
       "      <th>campaign</th>\n",
       "      <th>pdays</th>\n",
       "      <th>previous</th>\n",
       "      <th>poutcome</th>\n",
       "      <th>y</th>\n",
       "    </tr>\n",
       "  </thead>\n",
       "  <tbody>\n",
       "    <tr>\n",
       "      <th>0</th>\n",
       "      <td>30</td>\n",
       "      <td>unemployed</td>\n",
       "      <td>married</td>\n",
       "      <td>primary</td>\n",
       "      <td>no</td>\n",
       "      <td>1787</td>\n",
       "      <td>no</td>\n",
       "      <td>no</td>\n",
       "      <td>cellular</td>\n",
       "      <td>19</td>\n",
       "      <td>oct</td>\n",
       "      <td>79</td>\n",
       "      <td>1</td>\n",
       "      <td>-1</td>\n",
       "      <td>0</td>\n",
       "      <td>unknown</td>\n",
       "      <td>no</td>\n",
       "    </tr>\n",
       "    <tr>\n",
       "      <th>1</th>\n",
       "      <td>33</td>\n",
       "      <td>services</td>\n",
       "      <td>married</td>\n",
       "      <td>secondary</td>\n",
       "      <td>no</td>\n",
       "      <td>4789</td>\n",
       "      <td>yes</td>\n",
       "      <td>yes</td>\n",
       "      <td>cellular</td>\n",
       "      <td>11</td>\n",
       "      <td>may</td>\n",
       "      <td>220</td>\n",
       "      <td>1</td>\n",
       "      <td>339</td>\n",
       "      <td>4</td>\n",
       "      <td>failure</td>\n",
       "      <td>no</td>\n",
       "    </tr>\n",
       "    <tr>\n",
       "      <th>2</th>\n",
       "      <td>35</td>\n",
       "      <td>management</td>\n",
       "      <td>single</td>\n",
       "      <td>tertiary</td>\n",
       "      <td>no</td>\n",
       "      <td>1350</td>\n",
       "      <td>yes</td>\n",
       "      <td>no</td>\n",
       "      <td>cellular</td>\n",
       "      <td>16</td>\n",
       "      <td>apr</td>\n",
       "      <td>185</td>\n",
       "      <td>1</td>\n",
       "      <td>330</td>\n",
       "      <td>1</td>\n",
       "      <td>failure</td>\n",
       "      <td>no</td>\n",
       "    </tr>\n",
       "    <tr>\n",
       "      <th>3</th>\n",
       "      <td>30</td>\n",
       "      <td>management</td>\n",
       "      <td>married</td>\n",
       "      <td>tertiary</td>\n",
       "      <td>no</td>\n",
       "      <td>1476</td>\n",
       "      <td>yes</td>\n",
       "      <td>yes</td>\n",
       "      <td>unknown</td>\n",
       "      <td>3</td>\n",
       "      <td>jun</td>\n",
       "      <td>199</td>\n",
       "      <td>4</td>\n",
       "      <td>-1</td>\n",
       "      <td>0</td>\n",
       "      <td>unknown</td>\n",
       "      <td>no</td>\n",
       "    </tr>\n",
       "    <tr>\n",
       "      <th>4</th>\n",
       "      <td>59</td>\n",
       "      <td>blue-collar</td>\n",
       "      <td>married</td>\n",
       "      <td>secondary</td>\n",
       "      <td>no</td>\n",
       "      <td>0</td>\n",
       "      <td>yes</td>\n",
       "      <td>no</td>\n",
       "      <td>unknown</td>\n",
       "      <td>5</td>\n",
       "      <td>may</td>\n",
       "      <td>226</td>\n",
       "      <td>1</td>\n",
       "      <td>-1</td>\n",
       "      <td>0</td>\n",
       "      <td>unknown</td>\n",
       "      <td>no</td>\n",
       "    </tr>\n",
       "  </tbody>\n",
       "</table>\n",
       "</div>"
      ],
      "text/plain": [
       "   age          job  marital  education default  balance housing loan  \\\n",
       "0   30   unemployed  married    primary      no     1787      no   no   \n",
       "1   33     services  married  secondary      no     4789     yes  yes   \n",
       "2   35   management   single   tertiary      no     1350     yes   no   \n",
       "3   30   management  married   tertiary      no     1476     yes  yes   \n",
       "4   59  blue-collar  married  secondary      no        0     yes   no   \n",
       "\n",
       "    contact  day month  duration  campaign  pdays  previous poutcome   y  \n",
       "0  cellular   19   oct        79         1     -1         0  unknown  no  \n",
       "1  cellular   11   may       220         1    339         4  failure  no  \n",
       "2  cellular   16   apr       185         1    330         1  failure  no  \n",
       "3   unknown    3   jun       199         4     -1         0  unknown  no  \n",
       "4   unknown    5   may       226         1     -1         0  unknown  no  "
      ]
     },
     "execution_count": 2,
     "metadata": {},
     "output_type": "execute_result"
    }
   ],
   "source": [
    "## your code here\n",
    "data = pd.read_csv(\"data_module7/bank.csv\", sep=\";\")\n",
    "data.head()"
   ]
  },
  {
   "cell_type": "markdown",
   "id": "041e2a59-1c6b-45eb-9aa6-465f44225e26",
   "metadata": {},
   "source": [
    "**About this dataset**\n",
    "\n",
    "The data is related with direct marketing campaigns of a Portuguese banking institution. \n",
    "The marketing campaigns were based on phone calls. Often, more than one contact to the same client was required, in order to access if the product (bank term deposit) would be (or not) subscribed. Each row is a client and his/her information.\n",
    "\n",
    "__Input variables__\n",
    "\n",
    "#### bank client data:\n",
    "1: age (numeric)\\\n",
    "2: job : type of job (categorical: \"admin.\",\"unknown\",\"unemployed\",\"management\",\"housemaid\",\"entrepreneur\",\"student\",\\\n",
    "                                 \"blue-collar\",\"self-employed\",\"retired\",\"technician\",\"services\") \\\n",
    "3: marital : marital status (categorical: \"married\",\"divorced\",\"single\"; note: \"divorced\" means divorced or widowed)\\\n",
    "4: education (categorical: \"unknown\",\"secondary\",\"primary\",\"tertiary\")\\\n",
    "5: default: has credit in default? (binary: \"yes\",\"no\")\\\n",
    "6: balance: average yearly balance, in euros (numeric) \\\n",
    "7: housing: has housing loan? (binary: \"yes\",\"no\")\\\n",
    "8: loan: has personal loan? (binary: \"yes\",\"no\")\n",
    "#### related with the last contact of the current campaign:\n",
    "9: contact: contact communication type (categorical: \"unknown\",\"telephone\",\"cellular\") \\\n",
    "10: day: last contact day of the month (numeric)\\\n",
    "11: month: last contact month of year (categorical: \"jan\", \"feb\", \"mar\", ..., \"nov\", \"dec\")\\\n",
    "12: duration: last contact duration, in seconds (numeric)\n",
    "#### other attributes:\n",
    "13: campaign: number of contacts performed during this campaign and for this client (numeric, includes last contact)\\\n",
    "14: pdays: number of days that passed by after the client was last contacted from a previous campaign (numeric,-1 means client was not previously contacted)\\\n",
    "15: previous: number of contacts performed before this campaign and for this client (numeric)\\\n",
    "16: poutcome: outcome of the previous marketing campaign (categorical: \"unknown\",\"other\",\"failure\",\"success\")\n",
    "\n",
    "__Output variable (desired target)__\n",
    "\n",
    "17: y - has the client subscribed a term deposit? (binary: \"yes\",\"no\")\n",
    "\n",
    "\n"
   ]
  },
  {
   "cell_type": "markdown",
   "id": "6c875d17-8359-40c0-b679-5cf88e16d353",
   "metadata": {},
   "source": [
    "## 1. Check Variable Data types and the distribution of numerical variables. (2pt)\n",
    "\n",
    "- Hint: you may use `info()` and `describe()` "
   ]
  },
  {
   "cell_type": "code",
   "execution_count": null,
   "id": "615fa456-444e-47d0-bb10-336cebab4b7a",
   "metadata": {},
   "outputs": [],
   "source": [
    "# your code here\n"
   ]
  },
  {
   "cell_type": "markdown",
   "id": "ef7e4425-4b82-4e80-b1e5-b5eb58a31744",
   "metadata": {},
   "source": [
    "## 2. If consider unknown as missing data, there are how many missing data for each variable? (2pt)\n",
    "\n",
    "- Let's create a copy of data called data2, so that we can do whatever we want to data2 and always find the original data without reloading it. \n",
    "- You may consider `pd.isnull()`"
   ]
  },
  {
   "cell_type": "code",
   "execution_count": 5,
   "id": "223182b8-9ba0-4786-a1d9-afaf9cbfb3ff",
   "metadata": {},
   "outputs": [],
   "source": [
    "data2 = data.copy()  # create a copy \n",
    "data2 = data2.replace(\"unknown\", np.nan)  # replace unknown with NaN values"
   ]
  },
  {
   "cell_type": "code",
   "execution_count": 1,
   "id": "a37cb87e-e7e1-4a90-bcf8-b1084b266a48",
   "metadata": {},
   "outputs": [],
   "source": [
    "# your code here \n"
   ]
  },
  {
   "cell_type": "markdown",
   "id": "a13e7e7c-3a20-49c2-a440-2dc8796ed191",
   "metadata": {},
   "source": [
    "## 3. Ask three business questions regarding the subscribe rate you want to figure out and answer them by visulizing your analysis. (6pt)"
   ]
  },
  {
   "cell_type": "markdown",
   "id": "afb09707-22f9-48f7-8d80-e6abce247193",
   "metadata": {},
   "source": [
    "For example, I want to see whether the customer's job affect whether they subscribe to the service. I may plot the subscription rate for each job. \n",
    "\n",
    "To do that, I want to, first converting the y variable subscribe into 0 and 1, then use pivot_table to check out the subscription rate for each job categories.  "
   ]
  },
  {
   "cell_type": "code",
   "execution_count": 7,
   "id": "02ffca16-ea43-4aba-b9b9-94246602dc72",
   "metadata": {},
   "outputs": [
    {
     "data": {
      "text/html": [
       "<div>\n",
       "<style scoped>\n",
       "    .dataframe tbody tr th:only-of-type {\n",
       "        vertical-align: middle;\n",
       "    }\n",
       "\n",
       "    .dataframe tbody tr th {\n",
       "        vertical-align: top;\n",
       "    }\n",
       "\n",
       "    .dataframe thead th {\n",
       "        text-align: right;\n",
       "    }\n",
       "</style>\n",
       "<table border=\"1\" class=\"dataframe\">\n",
       "  <thead>\n",
       "    <tr style=\"text-align: right;\">\n",
       "      <th></th>\n",
       "      <th>age</th>\n",
       "      <th>job</th>\n",
       "      <th>marital</th>\n",
       "      <th>education</th>\n",
       "      <th>default</th>\n",
       "      <th>balance</th>\n",
       "      <th>housing</th>\n",
       "      <th>loan</th>\n",
       "      <th>contact</th>\n",
       "      <th>day</th>\n",
       "      <th>month</th>\n",
       "      <th>duration</th>\n",
       "      <th>campaign</th>\n",
       "      <th>pdays</th>\n",
       "      <th>previous</th>\n",
       "      <th>poutcome</th>\n",
       "      <th>y</th>\n",
       "    </tr>\n",
       "  </thead>\n",
       "  <tbody>\n",
       "    <tr>\n",
       "      <th>0</th>\n",
       "      <td>30</td>\n",
       "      <td>unemployed</td>\n",
       "      <td>married</td>\n",
       "      <td>primary</td>\n",
       "      <td>no</td>\n",
       "      <td>1787</td>\n",
       "      <td>no</td>\n",
       "      <td>no</td>\n",
       "      <td>cellular</td>\n",
       "      <td>19</td>\n",
       "      <td>oct</td>\n",
       "      <td>79</td>\n",
       "      <td>1</td>\n",
       "      <td>-1</td>\n",
       "      <td>0</td>\n",
       "      <td>NaN</td>\n",
       "      <td>0</td>\n",
       "    </tr>\n",
       "    <tr>\n",
       "      <th>1</th>\n",
       "      <td>33</td>\n",
       "      <td>services</td>\n",
       "      <td>married</td>\n",
       "      <td>secondary</td>\n",
       "      <td>no</td>\n",
       "      <td>4789</td>\n",
       "      <td>yes</td>\n",
       "      <td>yes</td>\n",
       "      <td>cellular</td>\n",
       "      <td>11</td>\n",
       "      <td>may</td>\n",
       "      <td>220</td>\n",
       "      <td>1</td>\n",
       "      <td>339</td>\n",
       "      <td>4</td>\n",
       "      <td>failure</td>\n",
       "      <td>0</td>\n",
       "    </tr>\n",
       "    <tr>\n",
       "      <th>2</th>\n",
       "      <td>35</td>\n",
       "      <td>management</td>\n",
       "      <td>single</td>\n",
       "      <td>tertiary</td>\n",
       "      <td>no</td>\n",
       "      <td>1350</td>\n",
       "      <td>yes</td>\n",
       "      <td>no</td>\n",
       "      <td>cellular</td>\n",
       "      <td>16</td>\n",
       "      <td>apr</td>\n",
       "      <td>185</td>\n",
       "      <td>1</td>\n",
       "      <td>330</td>\n",
       "      <td>1</td>\n",
       "      <td>failure</td>\n",
       "      <td>0</td>\n",
       "    </tr>\n",
       "    <tr>\n",
       "      <th>3</th>\n",
       "      <td>30</td>\n",
       "      <td>management</td>\n",
       "      <td>married</td>\n",
       "      <td>tertiary</td>\n",
       "      <td>no</td>\n",
       "      <td>1476</td>\n",
       "      <td>yes</td>\n",
       "      <td>yes</td>\n",
       "      <td>NaN</td>\n",
       "      <td>3</td>\n",
       "      <td>jun</td>\n",
       "      <td>199</td>\n",
       "      <td>4</td>\n",
       "      <td>-1</td>\n",
       "      <td>0</td>\n",
       "      <td>NaN</td>\n",
       "      <td>0</td>\n",
       "    </tr>\n",
       "    <tr>\n",
       "      <th>4</th>\n",
       "      <td>59</td>\n",
       "      <td>blue-collar</td>\n",
       "      <td>married</td>\n",
       "      <td>secondary</td>\n",
       "      <td>no</td>\n",
       "      <td>0</td>\n",
       "      <td>yes</td>\n",
       "      <td>no</td>\n",
       "      <td>NaN</td>\n",
       "      <td>5</td>\n",
       "      <td>may</td>\n",
       "      <td>226</td>\n",
       "      <td>1</td>\n",
       "      <td>-1</td>\n",
       "      <td>0</td>\n",
       "      <td>NaN</td>\n",
       "      <td>0</td>\n",
       "    </tr>\n",
       "  </tbody>\n",
       "</table>\n",
       "</div>"
      ],
      "text/plain": [
       "   age          job  marital  education default  balance housing loan  \\\n",
       "0   30   unemployed  married    primary      no     1787      no   no   \n",
       "1   33     services  married  secondary      no     4789     yes  yes   \n",
       "2   35   management   single   tertiary      no     1350     yes   no   \n",
       "3   30   management  married   tertiary      no     1476     yes  yes   \n",
       "4   59  blue-collar  married  secondary      no        0     yes   no   \n",
       "\n",
       "    contact  day month  duration  campaign  pdays  previous poutcome  y  \n",
       "0  cellular   19   oct        79         1     -1         0      NaN  0  \n",
       "1  cellular   11   may       220         1    339         4  failure  0  \n",
       "2  cellular   16   apr       185         1    330         1  failure  0  \n",
       "3       NaN    3   jun       199         4     -1         0      NaN  0  \n",
       "4       NaN    5   may       226         1     -1         0      NaN  0  "
      ]
     },
     "execution_count": 7,
     "metadata": {},
     "output_type": "execute_result"
    }
   ],
   "source": [
    "map_dict = {\"no\":0, \"yes\":1}\n",
    "data2['y'] = data2['y'].map(map_dict)\n",
    "data2.head()"
   ]
  },
  {
   "cell_type": "code",
   "execution_count": 8,
   "id": "f2b0eb1b-97e7-4a2b-a1ec-dd5ddb72c659",
   "metadata": {},
   "outputs": [
    {
     "data": {
      "text/html": [
       "<div>\n",
       "<style scoped>\n",
       "    .dataframe tbody tr th:only-of-type {\n",
       "        vertical-align: middle;\n",
       "    }\n",
       "\n",
       "    .dataframe tbody tr th {\n",
       "        vertical-align: top;\n",
       "    }\n",
       "\n",
       "    .dataframe thead th {\n",
       "        text-align: right;\n",
       "    }\n",
       "</style>\n",
       "<table border=\"1\" class=\"dataframe\">\n",
       "  <thead>\n",
       "    <tr style=\"text-align: right;\">\n",
       "      <th></th>\n",
       "      <th>y</th>\n",
       "    </tr>\n",
       "    <tr>\n",
       "      <th>job</th>\n",
       "      <th></th>\n",
       "    </tr>\n",
       "  </thead>\n",
       "  <tbody>\n",
       "    <tr>\n",
       "      <th>retired</th>\n",
       "      <td>0.234783</td>\n",
       "    </tr>\n",
       "    <tr>\n",
       "      <th>student</th>\n",
       "      <td>0.226190</td>\n",
       "    </tr>\n",
       "    <tr>\n",
       "      <th>management</th>\n",
       "      <td>0.135191</td>\n",
       "    </tr>\n",
       "    <tr>\n",
       "      <th>housemaid</th>\n",
       "      <td>0.125000</td>\n",
       "    </tr>\n",
       "    <tr>\n",
       "      <th>admin.</th>\n",
       "      <td>0.121339</td>\n",
       "    </tr>\n",
       "    <tr>\n",
       "      <th>self-employed</th>\n",
       "      <td>0.109290</td>\n",
       "    </tr>\n",
       "    <tr>\n",
       "      <th>technician</th>\n",
       "      <td>0.108073</td>\n",
       "    </tr>\n",
       "    <tr>\n",
       "      <th>unemployed</th>\n",
       "      <td>0.101562</td>\n",
       "    </tr>\n",
       "    <tr>\n",
       "      <th>services</th>\n",
       "      <td>0.091127</td>\n",
       "    </tr>\n",
       "    <tr>\n",
       "      <th>entrepreneur</th>\n",
       "      <td>0.089286</td>\n",
       "    </tr>\n",
       "    <tr>\n",
       "      <th>blue-collar</th>\n",
       "      <td>0.072939</td>\n",
       "    </tr>\n",
       "  </tbody>\n",
       "</table>\n",
       "</div>"
      ],
      "text/plain": [
       "                      y\n",
       "job                    \n",
       "retired        0.234783\n",
       "student        0.226190\n",
       "management     0.135191\n",
       "housemaid      0.125000\n",
       "admin.         0.121339\n",
       "self-employed  0.109290\n",
       "technician     0.108073\n",
       "unemployed     0.101562\n",
       "services       0.091127\n",
       "entrepreneur   0.089286\n",
       "blue-collar    0.072939"
      ]
     },
     "execution_count": 8,
     "metadata": {},
     "output_type": "execute_result"
    }
   ],
   "source": [
    "stats = data2.pivot_table(index=\"job\", values=\"y\", aggfunc=np.mean)\n",
    "stats = stats.sort_values('y',ascending=False)\n",
    "stats"
   ]
  },
  {
   "cell_type": "code",
   "execution_count": 9,
   "id": "6e8ce146-b4d9-47b1-a693-6fb481eab0d0",
   "metadata": {},
   "outputs": [
    {
     "data": {
      "text/plain": [
       "<AxesSubplot:xlabel='job'>"
      ]
     },
     "execution_count": 9,
     "metadata": {},
     "output_type": "execute_result"
    },
    {
     "data": {
      "image/png": "[encoded data removed]",
      "text/plain": [
       "<Figure size 432x288 with 1 Axes>"
      ]
     },
     "metadata": {
      "needs_background": "light"
     },
     "output_type": "display_data"
    }
   ],
   "source": [
    "## let's plot out the results using pandas\n",
    "stats.plot(kind='bar')"
   ]
  },
  {
   "cell_type": "code",
   "execution_count": 10,
   "id": "79808230-c6e5-42ea-9a4c-0c4ea89ae0d6",
   "metadata": {},
   "outputs": [
    {
     "data": {
      "text/plain": [
       "<AxesSubplot:xlabel='job', ylabel='y'>"
      ]
     },
     "execution_count": 10,
     "metadata": {},
     "output_type": "execute_result"
    },
    {
     "data": {
      "image/png": "[encoded data removed]",
      "text/plain": [
       "<Figure size 1080x432 with 1 Axes>"
      ]
     },
     "metadata": {
      "needs_background": "light"
     },
     "output_type": "display_data"
    }
   ],
   "source": [
    "## alternatively, you may use seaborn to directly analyze the dataset \n",
    "plt.figure(figsize=(15,6))\n",
    "sns.barplot(x=\"job\", y=\"y\", data=data2)"
   ]
  },
  {
   "cell_type": "markdown",
   "id": "6eddebab-0a6e-4dbb-8d32-a1a473f4773f",
   "metadata": {},
   "source": [
    "### List your question 1\n",
    "\n",
    "- "
   ]
  },
  {
   "cell_type": "code",
   "execution_count": 11,
   "id": "be6bff7d-20a1-40e7-a3ae-7999af2c6739",
   "metadata": {},
   "outputs": [],
   "source": [
    "## your code for question 1"
   ]
  },
  {
   "cell_type": "markdown",
   "id": "8b8fd258-cbb9-46fd-a080-a19223493b38",
   "metadata": {},
   "source": [
    "### List your question 2\n",
    "\n",
    "-"
   ]
  },
  {
   "cell_type": "code",
   "execution_count": 12,
   "id": "84ad93f3-b10d-4cd4-8e3b-49b3274b29c3",
   "metadata": {},
   "outputs": [],
   "source": [
    "## your code for question 2"
   ]
  },
  {
   "cell_type": "markdown",
   "id": "890ee3c4-c99d-4ffc-b77b-476a2be6322f",
   "metadata": {},
   "source": [
    "### List your question 3\n",
    "\n",
    "-"
   ]
  },
  {
   "cell_type": "code",
   "execution_count": 12,
   "id": "fb34a1a9-85a1-4046-a60e-3477800a8b6c",
   "metadata": {},
   "outputs": [],
   "source": [
    "## your code for question 2"
   ]
  },
  {
   "cell_type": "markdown",
   "id": "a3441889-92a5-4307-a16e-ba5b124068d7",
   "metadata": {},
   "source": [
    "## 4. What's the most important variable to predict whether a person will subscribe when only consider one variable? (Extra Credit: 2pt)\n",
    "\n",
    "- Hint: Check out the Pearson correlation between y and x variables (with `.corr()`) will be the correct way. \n",
    "- You will need to encode every categorical/textual variables into numerical first with `.map()`. Writing a FOR loop to do the conversion will speed up the process.  "
   ]
  },
  {
   "cell_type": "code",
   "execution_count": null,
   "id": "f22c24e7-6cc9-42b1-9097-4de2f1e4e551",
   "metadata": {},
   "outputs": [],
   "source": [
    "## your code here \n"
   ]
  }
 ],
 "metadata": {
  "kernelspec": {
   "display_name": "Python 3",
   "language": "python",
   "name": "python3"
  },
  "language_info": {
   "codemirror_mode": {
    "name": "ipython",
    "version": 3
   },
   "file_extension": ".py",
   "mimetype": "text/x-python",
   "name": "python",
   "nbconvert_exporter": "python",
   "pygments_lexer": "ipython3",
   "version": "3.8.12"
  }
 },
 "nbformat": 4,
 "nbformat_minor": 5
}
